{
 "cells": [
  {
   "cell_type": "code",
   "execution_count": 1,
   "metadata": {
    "scrolled": true
   },
   "outputs": [
    {
     "ename": "DatabaseError",
     "evalue": "1130: Host '10.10.65.58' is not allowed to connect to this MySQL server",
     "output_type": "error",
     "traceback": [
      "\u001b[0;31m---------------------------------------------------------------------------\u001b[0m",
      "\u001b[0;31mDatabaseError\u001b[0m                             Traceback (most recent call last)",
      "\u001b[0;32m<ipython-input-1-bfb6b93bb9bb>\u001b[0m in \u001b[0;36m<module>\u001b[0;34m\u001b[0m\n\u001b[1;32m      8\u001b[0m   \u001b[0mhost\u001b[0m\u001b[0;34m=\u001b[0m\u001b[0;34m\"10.10.110.2\"\u001b[0m\u001b[0;34m,\u001b[0m\u001b[0;34m\u001b[0m\u001b[0;34m\u001b[0m\u001b[0m\n\u001b[1;32m      9\u001b[0m   \u001b[0muser\u001b[0m\u001b[0;34m=\u001b[0m\u001b[0;34m\"root\"\u001b[0m\u001b[0;34m,\u001b[0m\u001b[0;34m\u001b[0m\u001b[0;34m\u001b[0m\u001b[0m\n\u001b[0;32m---> 10\u001b[0;31m   \u001b[0mpasswd\u001b[0m\u001b[0;34m=\u001b[0m\u001b[0;34m\"Iot@bit123\"\u001b[0m\u001b[0;34m\u001b[0m\u001b[0;34m\u001b[0m\u001b[0m\n\u001b[0m\u001b[1;32m     11\u001b[0m )\n\u001b[1;32m     12\u001b[0m \u001b[0;34m\u001b[0m\u001b[0m\n",
      "\u001b[0;32m~/.local/lib/python3.6/site-packages/mysql/connector/__init__.py\u001b[0m in \u001b[0;36mconnect\u001b[0;34m(*args, **kwargs)\u001b[0m\n\u001b[1;32m    177\u001b[0m         \u001b[0;32mreturn\u001b[0m \u001b[0mCMySQLConnection\u001b[0m\u001b[0;34m(\u001b[0m\u001b[0;34m*\u001b[0m\u001b[0margs\u001b[0m\u001b[0;34m,\u001b[0m \u001b[0;34m**\u001b[0m\u001b[0mkwargs\u001b[0m\u001b[0;34m)\u001b[0m\u001b[0;34m\u001b[0m\u001b[0;34m\u001b[0m\u001b[0m\n\u001b[1;32m    178\u001b[0m     \u001b[0;32melse\u001b[0m\u001b[0;34m:\u001b[0m\u001b[0;34m\u001b[0m\u001b[0;34m\u001b[0m\u001b[0m\n\u001b[0;32m--> 179\u001b[0;31m         \u001b[0;32mreturn\u001b[0m \u001b[0mMySQLConnection\u001b[0m\u001b[0;34m(\u001b[0m\u001b[0;34m*\u001b[0m\u001b[0margs\u001b[0m\u001b[0;34m,\u001b[0m \u001b[0;34m**\u001b[0m\u001b[0mkwargs\u001b[0m\u001b[0;34m)\u001b[0m\u001b[0;34m\u001b[0m\u001b[0;34m\u001b[0m\u001b[0m\n\u001b[0m\u001b[1;32m    180\u001b[0m \u001b[0mConnect\u001b[0m \u001b[0;34m=\u001b[0m \u001b[0mconnect\u001b[0m  \u001b[0;31m# pylint: disable=C0103\u001b[0m\u001b[0;34m\u001b[0m\u001b[0;34m\u001b[0m\u001b[0m\n\u001b[1;32m    181\u001b[0m \u001b[0;34m\u001b[0m\u001b[0m\n",
      "\u001b[0;32m~/.local/lib/python3.6/site-packages/mysql/connector/connection.py\u001b[0m in \u001b[0;36m__init__\u001b[0;34m(self, *args, **kwargs)\u001b[0m\n\u001b[1;32m     93\u001b[0m \u001b[0;34m\u001b[0m\u001b[0m\n\u001b[1;32m     94\u001b[0m         \u001b[0;32mif\u001b[0m \u001b[0mlen\u001b[0m\u001b[0;34m(\u001b[0m\u001b[0mkwargs\u001b[0m\u001b[0;34m)\u001b[0m \u001b[0;34m>\u001b[0m \u001b[0;36m0\u001b[0m\u001b[0;34m:\u001b[0m\u001b[0;34m\u001b[0m\u001b[0;34m\u001b[0m\u001b[0m\n\u001b[0;32m---> 95\u001b[0;31m             \u001b[0mself\u001b[0m\u001b[0;34m.\u001b[0m\u001b[0mconnect\u001b[0m\u001b[0;34m(\u001b[0m\u001b[0;34m**\u001b[0m\u001b[0mkwargs\u001b[0m\u001b[0;34m)\u001b[0m\u001b[0;34m\u001b[0m\u001b[0;34m\u001b[0m\u001b[0m\n\u001b[0m\u001b[1;32m     96\u001b[0m \u001b[0;34m\u001b[0m\u001b[0m\n\u001b[1;32m     97\u001b[0m     \u001b[0;32mdef\u001b[0m \u001b[0m_do_handshake\u001b[0m\u001b[0;34m(\u001b[0m\u001b[0mself\u001b[0m\u001b[0;34m)\u001b[0m\u001b[0;34m:\u001b[0m\u001b[0;34m\u001b[0m\u001b[0;34m\u001b[0m\u001b[0m\n",
      "\u001b[0;32m~/.local/lib/python3.6/site-packages/mysql/connector/abstracts.py\u001b[0m in \u001b[0;36mconnect\u001b[0;34m(self, **kwargs)\u001b[0m\n\u001b[1;32m    714\u001b[0m \u001b[0;34m\u001b[0m\u001b[0m\n\u001b[1;32m    715\u001b[0m         \u001b[0mself\u001b[0m\u001b[0;34m.\u001b[0m\u001b[0mdisconnect\u001b[0m\u001b[0;34m(\u001b[0m\u001b[0;34m)\u001b[0m\u001b[0;34m\u001b[0m\u001b[0;34m\u001b[0m\u001b[0m\n\u001b[0;32m--> 716\u001b[0;31m         \u001b[0mself\u001b[0m\u001b[0;34m.\u001b[0m\u001b[0m_open_connection\u001b[0m\u001b[0;34m(\u001b[0m\u001b[0;34m)\u001b[0m\u001b[0;34m\u001b[0m\u001b[0;34m\u001b[0m\u001b[0m\n\u001b[0m\u001b[1;32m    717\u001b[0m         \u001b[0mself\u001b[0m\u001b[0;34m.\u001b[0m\u001b[0m_post_connection\u001b[0m\u001b[0;34m(\u001b[0m\u001b[0;34m)\u001b[0m\u001b[0;34m\u001b[0m\u001b[0;34m\u001b[0m\u001b[0m\n\u001b[1;32m    718\u001b[0m \u001b[0;34m\u001b[0m\u001b[0m\n",
      "\u001b[0;32m~/.local/lib/python3.6/site-packages/mysql/connector/connection.py\u001b[0m in \u001b[0;36m_open_connection\u001b[0;34m(self)\u001b[0m\n\u001b[1;32m    205\u001b[0m         \u001b[0mself\u001b[0m\u001b[0;34m.\u001b[0m\u001b[0m_socket\u001b[0m \u001b[0;34m=\u001b[0m \u001b[0mself\u001b[0m\u001b[0;34m.\u001b[0m\u001b[0m_get_connection\u001b[0m\u001b[0;34m(\u001b[0m\u001b[0;34m)\u001b[0m\u001b[0;34m\u001b[0m\u001b[0;34m\u001b[0m\u001b[0m\n\u001b[1;32m    206\u001b[0m         \u001b[0mself\u001b[0m\u001b[0;34m.\u001b[0m\u001b[0m_socket\u001b[0m\u001b[0;34m.\u001b[0m\u001b[0mopen_connection\u001b[0m\u001b[0;34m(\u001b[0m\u001b[0;34m)\u001b[0m\u001b[0;34m\u001b[0m\u001b[0;34m\u001b[0m\u001b[0m\n\u001b[0;32m--> 207\u001b[0;31m         \u001b[0mself\u001b[0m\u001b[0;34m.\u001b[0m\u001b[0m_do_handshake\u001b[0m\u001b[0;34m(\u001b[0m\u001b[0;34m)\u001b[0m\u001b[0;34m\u001b[0m\u001b[0;34m\u001b[0m\u001b[0m\n\u001b[0m\u001b[1;32m    208\u001b[0m         self._do_auth(self._user, self._password,\n\u001b[1;32m    209\u001b[0m                       \u001b[0mself\u001b[0m\u001b[0;34m.\u001b[0m\u001b[0m_database\u001b[0m\u001b[0;34m,\u001b[0m \u001b[0mself\u001b[0m\u001b[0;34m.\u001b[0m\u001b[0m_client_flags\u001b[0m\u001b[0;34m,\u001b[0m \u001b[0mself\u001b[0m\u001b[0;34m.\u001b[0m\u001b[0m_charset_id\u001b[0m\u001b[0;34m,\u001b[0m\u001b[0;34m\u001b[0m\u001b[0;34m\u001b[0m\u001b[0m\n",
      "\u001b[0;32m~/.local/lib/python3.6/site-packages/mysql/connector/connection.py\u001b[0m in \u001b[0;36m_do_handshake\u001b[0;34m(self)\u001b[0m\n\u001b[1;32m     99\u001b[0m         \u001b[0mpacket\u001b[0m \u001b[0;34m=\u001b[0m \u001b[0mself\u001b[0m\u001b[0;34m.\u001b[0m\u001b[0m_socket\u001b[0m\u001b[0;34m.\u001b[0m\u001b[0mrecv\u001b[0m\u001b[0;34m(\u001b[0m\u001b[0;34m)\u001b[0m\u001b[0;34m\u001b[0m\u001b[0;34m\u001b[0m\u001b[0m\n\u001b[1;32m    100\u001b[0m         \u001b[0;32mif\u001b[0m \u001b[0mpacket\u001b[0m\u001b[0;34m[\u001b[0m\u001b[0;36m4\u001b[0m\u001b[0;34m]\u001b[0m \u001b[0;34m==\u001b[0m \u001b[0;36m255\u001b[0m\u001b[0;34m:\u001b[0m\u001b[0;34m\u001b[0m\u001b[0;34m\u001b[0m\u001b[0m\n\u001b[0;32m--> 101\u001b[0;31m             \u001b[0;32mraise\u001b[0m \u001b[0merrors\u001b[0m\u001b[0;34m.\u001b[0m\u001b[0mget_exception\u001b[0m\u001b[0;34m(\u001b[0m\u001b[0mpacket\u001b[0m\u001b[0;34m)\u001b[0m\u001b[0;34m\u001b[0m\u001b[0;34m\u001b[0m\u001b[0m\n\u001b[0m\u001b[1;32m    102\u001b[0m \u001b[0;34m\u001b[0m\u001b[0m\n\u001b[1;32m    103\u001b[0m         \u001b[0mself\u001b[0m\u001b[0;34m.\u001b[0m\u001b[0m_handshake\u001b[0m \u001b[0;34m=\u001b[0m \u001b[0;32mNone\u001b[0m\u001b[0;34m\u001b[0m\u001b[0;34m\u001b[0m\u001b[0m\n",
      "\u001b[0;31mDatabaseError\u001b[0m: 1130: Host '10.10.65.58' is not allowed to connect to this MySQL server"
     ]
    }
   ],
   "source": [
    "import mysql.connector\n",
    "import pandas as pd\n",
    "import numpy as np\n",
    "from datetime import datetime, timedelta\n",
    "import Water_Monitoring as wt\n",
    "\n",
    "mydb = mysql.connector.connect(\n",
    "  host=\"10.10.110.2\",\n",
    "  user=\"test\",\n",
    "  passwd=\"test\"\n",
    "  database=\"water_monetering\"\n",
    ")\n",
    "\n",
    "print(mydb)"
   ]
  },
  {
   "cell_type": "code",
   "execution_count": 392,
   "metadata": {},
   "outputs": [],
   "source": [
    "# cursor.execute(\"create database watertank_monitoring\")"
   ]
  },
  {
   "cell_type": "code",
   "execution_count": 393,
   "metadata": {},
   "outputs": [],
   "source": [
    "cursor = mydb.cursor()"
   ]
  },
  {
   "cell_type": "code",
   "execution_count": 394,
   "metadata": {},
   "outputs": [
    {
     "name": "stdout",
     "output_type": "stream",
     "text": [
      "('acc',)\n",
      "('acc1',)\n",
      "('acc_picam',)\n",
      "('accident',)\n",
      "('db',)\n",
      "('iotcloud',)\n",
      "('iotgui',)\n",
      "('rand',)\n",
      "('student',)\n",
      "('tank',)\n",
      "('test',)\n"
     ]
    }
   ],
   "source": [
    "cursor.execute(\"show tables\")\n",
    "for x in cursor:\n",
    "    print(x)"
   ]
  },
  {
   "cell_type": "code",
   "execution_count": 395,
   "metadata": {},
   "outputs": [
    {
     "data": {
      "text/html": [
       "<div>\n",
       "<style scoped>\n",
       "    .dataframe tbody tr th:only-of-type {\n",
       "        vertical-align: middle;\n",
       "    }\n",
       "\n",
       "    .dataframe tbody tr th {\n",
       "        vertical-align: top;\n",
       "    }\n",
       "\n",
       "    .dataframe thead th {\n",
       "        text-align: right;\n",
       "    }\n",
       "</style>\n",
       "<table border=\"1\" class=\"dataframe\">\n",
       "  <thead>\n",
       "    <tr style=\"text-align: right;\">\n",
       "      <th></th>\n",
       "      <th>s_no</th>\n",
       "      <th>volume_in_ltrs</th>\n",
       "      <th>distance</th>\n",
       "      <th>time</th>\n",
       "    </tr>\n",
       "  </thead>\n",
       "  <tbody>\n",
       "    <tr>\n",
       "      <td>0</td>\n",
       "      <td>1</td>\n",
       "      <td>7185.58</td>\n",
       "      <td>0.37</td>\n",
       "      <td>2019-09-17 13:43:55</td>\n",
       "    </tr>\n",
       "    <tr>\n",
       "      <td>1</td>\n",
       "      <td>2</td>\n",
       "      <td>7099.25</td>\n",
       "      <td>0.36</td>\n",
       "      <td>2019-09-17 13:43:57</td>\n",
       "    </tr>\n",
       "    <tr>\n",
       "      <td>2</td>\n",
       "      <td>3</td>\n",
       "      <td>7099.25</td>\n",
       "      <td>0.36</td>\n",
       "      <td>2019-09-17 13:44:00</td>\n",
       "    </tr>\n",
       "    <tr>\n",
       "      <td>3</td>\n",
       "      <td>4</td>\n",
       "      <td>7082.65</td>\n",
       "      <td>0.36</td>\n",
       "      <td>2019-09-17 13:44:02</td>\n",
       "    </tr>\n",
       "    <tr>\n",
       "      <td>4</td>\n",
       "      <td>5</td>\n",
       "      <td>7095.93</td>\n",
       "      <td>0.36</td>\n",
       "      <td>2019-09-17 13:44:05</td>\n",
       "    </tr>\n",
       "  </tbody>\n",
       "</table>\n",
       "</div>"
      ],
      "text/plain": [
       "   s_no  volume_in_ltrs  distance                time\n",
       "0     1         7185.58      0.37 2019-09-17 13:43:55\n",
       "1     2         7099.25      0.36 2019-09-17 13:43:57\n",
       "2     3         7099.25      0.36 2019-09-17 13:44:00\n",
       "3     4         7082.65      0.36 2019-09-17 13:44:02\n",
       "4     5         7095.93      0.36 2019-09-17 13:44:05"
      ]
     },
     "execution_count": 395,
     "metadata": {},
     "output_type": "execute_result"
    }
   ],
   "source": [
    "df = pd.read_sql_query(\"select * from tank\",mydb)\n",
    "df = pd.DataFrame(df)\n",
    "df.head()"
   ]
  },
  {
   "cell_type": "code",
   "execution_count": 396,
   "metadata": {},
   "outputs": [
    {
     "data": {
      "text/html": [
       "<div>\n",
       "<style scoped>\n",
       "    .dataframe tbody tr th:only-of-type {\n",
       "        vertical-align: middle;\n",
       "    }\n",
       "\n",
       "    .dataframe tbody tr th {\n",
       "        vertical-align: top;\n",
       "    }\n",
       "\n",
       "    .dataframe thead th {\n",
       "        text-align: right;\n",
       "    }\n",
       "</style>\n",
       "<table border=\"1\" class=\"dataframe\">\n",
       "  <thead>\n",
       "    <tr style=\"text-align: right;\">\n",
       "      <th></th>\n",
       "      <th>s_no</th>\n",
       "      <th>volume_in_ltrs</th>\n",
       "      <th>distance</th>\n",
       "      <th>Time</th>\n",
       "    </tr>\n",
       "  </thead>\n",
       "  <tbody>\n",
       "    <tr>\n",
       "      <td>0</td>\n",
       "      <td>1</td>\n",
       "      <td>7185.58</td>\n",
       "      <td>0.37</td>\n",
       "      <td>2019-09-17 13:43:55</td>\n",
       "    </tr>\n",
       "    <tr>\n",
       "      <td>1</td>\n",
       "      <td>2</td>\n",
       "      <td>7099.25</td>\n",
       "      <td>0.36</td>\n",
       "      <td>2019-09-17 13:43:57</td>\n",
       "    </tr>\n",
       "    <tr>\n",
       "      <td>2</td>\n",
       "      <td>3</td>\n",
       "      <td>7099.25</td>\n",
       "      <td>0.36</td>\n",
       "      <td>2019-09-17 13:44:00</td>\n",
       "    </tr>\n",
       "    <tr>\n",
       "      <td>3</td>\n",
       "      <td>4</td>\n",
       "      <td>7082.65</td>\n",
       "      <td>0.36</td>\n",
       "      <td>2019-09-17 13:44:02</td>\n",
       "    </tr>\n",
       "    <tr>\n",
       "      <td>4</td>\n",
       "      <td>5</td>\n",
       "      <td>7095.93</td>\n",
       "      <td>0.36</td>\n",
       "      <td>2019-09-17 13:44:05</td>\n",
       "    </tr>\n",
       "  </tbody>\n",
       "</table>\n",
       "</div>"
      ],
      "text/plain": [
       "   s_no  volume_in_ltrs  distance                Time\n",
       "0     1         7185.58      0.37 2019-09-17 13:43:55\n",
       "1     2         7099.25      0.36 2019-09-17 13:43:57\n",
       "2     3         7099.25      0.36 2019-09-17 13:44:00\n",
       "3     4         7082.65      0.36 2019-09-17 13:44:02\n",
       "4     5         7095.93      0.36 2019-09-17 13:44:05"
      ]
     },
     "execution_count": 396,
     "metadata": {},
     "output_type": "execute_result"
    }
   ],
   "source": [
    "df.rename(columns = {\"time\":\"Time\"}, inplace=True)\n",
    "df.head()"
   ]
  },
  {
   "cell_type": "code",
   "execution_count": 397,
   "metadata": {},
   "outputs": [
    {
     "data": {
      "text/html": [
       "<div>\n",
       "<style scoped>\n",
       "    .dataframe tbody tr th:only-of-type {\n",
       "        vertical-align: middle;\n",
       "    }\n",
       "\n",
       "    .dataframe tbody tr th {\n",
       "        vertical-align: top;\n",
       "    }\n",
       "\n",
       "    .dataframe thead th {\n",
       "        text-align: right;\n",
       "    }\n",
       "</style>\n",
       "<table border=\"1\" class=\"dataframe\">\n",
       "  <thead>\n",
       "    <tr style=\"text-align: right;\">\n",
       "      <th></th>\n",
       "      <th>s_no</th>\n",
       "      <th>volume_in_ltrs</th>\n",
       "      <th>distance</th>\n",
       "      <th>Time</th>\n",
       "      <th>Date</th>\n",
       "    </tr>\n",
       "  </thead>\n",
       "  <tbody>\n",
       "    <tr>\n",
       "      <td>0</td>\n",
       "      <td>1</td>\n",
       "      <td>7185.58</td>\n",
       "      <td>0.37</td>\n",
       "      <td>2019-09-17 13:43:55</td>\n",
       "      <td>2019-09-17 13:43:55</td>\n",
       "    </tr>\n",
       "    <tr>\n",
       "      <td>1</td>\n",
       "      <td>2</td>\n",
       "      <td>7099.25</td>\n",
       "      <td>0.36</td>\n",
       "      <td>2019-09-17 13:43:57</td>\n",
       "      <td>2019-09-17 13:43:57</td>\n",
       "    </tr>\n",
       "    <tr>\n",
       "      <td>2</td>\n",
       "      <td>3</td>\n",
       "      <td>7099.25</td>\n",
       "      <td>0.36</td>\n",
       "      <td>2019-09-17 13:44:00</td>\n",
       "      <td>2019-09-17 13:44:00</td>\n",
       "    </tr>\n",
       "    <tr>\n",
       "      <td>3</td>\n",
       "      <td>4</td>\n",
       "      <td>7082.65</td>\n",
       "      <td>0.36</td>\n",
       "      <td>2019-09-17 13:44:02</td>\n",
       "      <td>2019-09-17 13:44:02</td>\n",
       "    </tr>\n",
       "    <tr>\n",
       "      <td>4</td>\n",
       "      <td>5</td>\n",
       "      <td>7095.93</td>\n",
       "      <td>0.36</td>\n",
       "      <td>2019-09-17 13:44:05</td>\n",
       "      <td>2019-09-17 13:44:05</td>\n",
       "    </tr>\n",
       "  </tbody>\n",
       "</table>\n",
       "</div>"
      ],
      "text/plain": [
       "   s_no  volume_in_ltrs  distance                Time                Date\n",
       "0     1         7185.58      0.37 2019-09-17 13:43:55 2019-09-17 13:43:55\n",
       "1     2         7099.25      0.36 2019-09-17 13:43:57 2019-09-17 13:43:57\n",
       "2     3         7099.25      0.36 2019-09-17 13:44:00 2019-09-17 13:44:00\n",
       "3     4         7082.65      0.36 2019-09-17 13:44:02 2019-09-17 13:44:02\n",
       "4     5         7095.93      0.36 2019-09-17 13:44:05 2019-09-17 13:44:05"
      ]
     },
     "execution_count": 397,
     "metadata": {},
     "output_type": "execute_result"
    }
   ],
   "source": [
    "df[\"Date\"] = df[\"Time\"]\n",
    "df.head()"
   ]
  },
  {
   "cell_type": "code",
   "execution_count": 398,
   "metadata": {},
   "outputs": [],
   "source": [
    "df.Date = pd.to_datetime(df.Date)"
   ]
  },
  {
   "cell_type": "code",
   "execution_count": 399,
   "metadata": {},
   "outputs": [
    {
     "data": {
      "text/html": [
       "<div>\n",
       "<style scoped>\n",
       "    .dataframe tbody tr th:only-of-type {\n",
       "        vertical-align: middle;\n",
       "    }\n",
       "\n",
       "    .dataframe tbody tr th {\n",
       "        vertical-align: top;\n",
       "    }\n",
       "\n",
       "    .dataframe thead th {\n",
       "        text-align: right;\n",
       "    }\n",
       "</style>\n",
       "<table border=\"1\" class=\"dataframe\">\n",
       "  <thead>\n",
       "    <tr style=\"text-align: right;\">\n",
       "      <th></th>\n",
       "      <th>s_no</th>\n",
       "      <th>volume_in_ltrs</th>\n",
       "      <th>distance</th>\n",
       "      <th>Time</th>\n",
       "      <th>Date</th>\n",
       "    </tr>\n",
       "  </thead>\n",
       "  <tbody>\n",
       "    <tr>\n",
       "      <td>0</td>\n",
       "      <td>1</td>\n",
       "      <td>7185.58</td>\n",
       "      <td>0.37</td>\n",
       "      <td>2019-09-17 13:43:55</td>\n",
       "      <td>19-09-17</td>\n",
       "    </tr>\n",
       "    <tr>\n",
       "      <td>1</td>\n",
       "      <td>2</td>\n",
       "      <td>7099.25</td>\n",
       "      <td>0.36</td>\n",
       "      <td>2019-09-17 13:43:57</td>\n",
       "      <td>19-09-17</td>\n",
       "    </tr>\n",
       "    <tr>\n",
       "      <td>2</td>\n",
       "      <td>3</td>\n",
       "      <td>7099.25</td>\n",
       "      <td>0.36</td>\n",
       "      <td>2019-09-17 13:44:00</td>\n",
       "      <td>19-09-17</td>\n",
       "    </tr>\n",
       "    <tr>\n",
       "      <td>3</td>\n",
       "      <td>4</td>\n",
       "      <td>7082.65</td>\n",
       "      <td>0.36</td>\n",
       "      <td>2019-09-17 13:44:02</td>\n",
       "      <td>19-09-17</td>\n",
       "    </tr>\n",
       "    <tr>\n",
       "      <td>4</td>\n",
       "      <td>5</td>\n",
       "      <td>7095.93</td>\n",
       "      <td>0.36</td>\n",
       "      <td>2019-09-17 13:44:05</td>\n",
       "      <td>19-09-17</td>\n",
       "    </tr>\n",
       "  </tbody>\n",
       "</table>\n",
       "</div>"
      ],
      "text/plain": [
       "   s_no  volume_in_ltrs  distance                Time      Date\n",
       "0     1         7185.58      0.37 2019-09-17 13:43:55  19-09-17\n",
       "1     2         7099.25      0.36 2019-09-17 13:43:57  19-09-17\n",
       "2     3         7099.25      0.36 2019-09-17 13:44:00  19-09-17\n",
       "3     4         7082.65      0.36 2019-09-17 13:44:02  19-09-17\n",
       "4     5         7095.93      0.36 2019-09-17 13:44:05  19-09-17"
      ]
     },
     "execution_count": 399,
     "metadata": {},
     "output_type": "execute_result"
    }
   ],
   "source": [
    "df.Date = df.Date.map(lambda t: t.strftime('%y-%m-%d'))\n",
    "df.head()"
   ]
  },
  {
   "cell_type": "code",
   "execution_count": 400,
   "metadata": {},
   "outputs": [
    {
     "data": {
      "text/html": [
       "<div>\n",
       "<style scoped>\n",
       "    .dataframe tbody tr th:only-of-type {\n",
       "        vertical-align: middle;\n",
       "    }\n",
       "\n",
       "    .dataframe tbody tr th {\n",
       "        vertical-align: top;\n",
       "    }\n",
       "\n",
       "    .dataframe thead th {\n",
       "        text-align: right;\n",
       "    }\n",
       "</style>\n",
       "<table border=\"1\" class=\"dataframe\">\n",
       "  <thead>\n",
       "    <tr style=\"text-align: right;\">\n",
       "      <th></th>\n",
       "      <th>s_no</th>\n",
       "      <th>volume_in_ltrs</th>\n",
       "      <th>distance</th>\n",
       "      <th>Time</th>\n",
       "      <th>Date</th>\n",
       "    </tr>\n",
       "  </thead>\n",
       "  <tbody>\n",
       "    <tr>\n",
       "      <td>0</td>\n",
       "      <td>1</td>\n",
       "      <td>7185.58</td>\n",
       "      <td>0.37</td>\n",
       "      <td>13:43</td>\n",
       "      <td>19-09-17</td>\n",
       "    </tr>\n",
       "    <tr>\n",
       "      <td>1</td>\n",
       "      <td>2</td>\n",
       "      <td>7099.25</td>\n",
       "      <td>0.36</td>\n",
       "      <td>13:43</td>\n",
       "      <td>19-09-17</td>\n",
       "    </tr>\n",
       "    <tr>\n",
       "      <td>2</td>\n",
       "      <td>3</td>\n",
       "      <td>7099.25</td>\n",
       "      <td>0.36</td>\n",
       "      <td>13:44</td>\n",
       "      <td>19-09-17</td>\n",
       "    </tr>\n",
       "    <tr>\n",
       "      <td>3</td>\n",
       "      <td>4</td>\n",
       "      <td>7082.65</td>\n",
       "      <td>0.36</td>\n",
       "      <td>13:44</td>\n",
       "      <td>19-09-17</td>\n",
       "    </tr>\n",
       "    <tr>\n",
       "      <td>4</td>\n",
       "      <td>5</td>\n",
       "      <td>7095.93</td>\n",
       "      <td>0.36</td>\n",
       "      <td>13:44</td>\n",
       "      <td>19-09-17</td>\n",
       "    </tr>\n",
       "  </tbody>\n",
       "</table>\n",
       "</div>"
      ],
      "text/plain": [
       "   s_no  volume_in_ltrs  distance   Time      Date\n",
       "0     1         7185.58      0.37  13:43  19-09-17\n",
       "1     2         7099.25      0.36  13:43  19-09-17\n",
       "2     3         7099.25      0.36  13:44  19-09-17\n",
       "3     4         7082.65      0.36  13:44  19-09-17\n",
       "4     5         7095.93      0.36  13:44  19-09-17"
      ]
     },
     "execution_count": 400,
     "metadata": {},
     "output_type": "execute_result"
    }
   ],
   "source": [
    "df.Time = pd.to_datetime(df.Time)\n",
    "df.Time = df.Time.map(lambda t: t.strftime('%H:%M'))\n",
    "df.head()"
   ]
  },
  {
   "cell_type": "code",
   "execution_count": 401,
   "metadata": {},
   "outputs": [],
   "source": [
    "time = datetime.now()\n",
    "end_time = time.strftime(\"%H:%M\")"
   ]
  },
  {
   "cell_type": "code",
   "execution_count": 402,
   "metadata": {},
   "outputs": [],
   "source": [
    "time = datetime.now() - timedelta(hours=1)\n",
    "start_time = time.strftime(\"%H:%M\")"
   ]
  },
  {
   "cell_type": "code",
   "execution_count": 420,
   "metadata": {},
   "outputs": [
    {
     "name": "stdout",
     "output_type": "stream",
     "text": [
      "14:06 15:06\n"
     ]
    }
   ],
   "source": [
    "print(start_time, end_time)"
   ]
  },
  {
   "cell_type": "code",
   "execution_count": 404,
   "metadata": {},
   "outputs": [
    {
     "name": "stdout",
     "output_type": "stream",
     "text": [
      "19-09-17\n"
     ]
    }
   ],
   "source": [
    "date = datetime.today().strftime('%y-%m-%d')\n",
    "print(date)"
   ]
  },
  {
   "cell_type": "code",
   "execution_count": 405,
   "metadata": {},
   "outputs": [
    {
     "data": {
      "text/html": [
       "<div>\n",
       "<style scoped>\n",
       "    .dataframe tbody tr th:only-of-type {\n",
       "        vertical-align: middle;\n",
       "    }\n",
       "\n",
       "    .dataframe tbody tr th {\n",
       "        vertical-align: top;\n",
       "    }\n",
       "\n",
       "    .dataframe thead th {\n",
       "        text-align: right;\n",
       "    }\n",
       "</style>\n",
       "<table border=\"1\" class=\"dataframe\">\n",
       "  <thead>\n",
       "    <tr style=\"text-align: right;\">\n",
       "      <th></th>\n",
       "      <th>s_no</th>\n",
       "      <th>volume_in_ltrs</th>\n",
       "      <th>distance</th>\n",
       "      <th>Time</th>\n",
       "      <th>Date</th>\n",
       "    </tr>\n",
       "  </thead>\n",
       "  <tbody>\n",
       "    <tr>\n",
       "      <td>0</td>\n",
       "      <td>1</td>\n",
       "      <td>7185.58</td>\n",
       "      <td>0.37</td>\n",
       "      <td>13:43</td>\n",
       "      <td>19-09-17</td>\n",
       "    </tr>\n",
       "    <tr>\n",
       "      <td>1</td>\n",
       "      <td>2</td>\n",
       "      <td>7099.25</td>\n",
       "      <td>0.36</td>\n",
       "      <td>13:43</td>\n",
       "      <td>19-09-17</td>\n",
       "    </tr>\n",
       "    <tr>\n",
       "      <td>2</td>\n",
       "      <td>3</td>\n",
       "      <td>7099.25</td>\n",
       "      <td>0.36</td>\n",
       "      <td>13:44</td>\n",
       "      <td>19-09-17</td>\n",
       "    </tr>\n",
       "    <tr>\n",
       "      <td>3</td>\n",
       "      <td>4</td>\n",
       "      <td>7082.65</td>\n",
       "      <td>0.36</td>\n",
       "      <td>13:44</td>\n",
       "      <td>19-09-17</td>\n",
       "    </tr>\n",
       "    <tr>\n",
       "      <td>4</td>\n",
       "      <td>5</td>\n",
       "      <td>7095.93</td>\n",
       "      <td>0.36</td>\n",
       "      <td>13:44</td>\n",
       "      <td>19-09-17</td>\n",
       "    </tr>\n",
       "    <tr>\n",
       "      <td>...</td>\n",
       "      <td>...</td>\n",
       "      <td>...</td>\n",
       "      <td>...</td>\n",
       "      <td>...</td>\n",
       "      <td>...</td>\n",
       "    </tr>\n",
       "    <tr>\n",
       "      <td>105</td>\n",
       "      <td>106</td>\n",
       "      <td>31781.90</td>\n",
       "      <td>1.63</td>\n",
       "      <td>14:13</td>\n",
       "      <td>19-09-17</td>\n",
       "    </tr>\n",
       "    <tr>\n",
       "      <td>106</td>\n",
       "      <td>107</td>\n",
       "      <td>31599.30</td>\n",
       "      <td>1.62</td>\n",
       "      <td>14:13</td>\n",
       "      <td>19-09-17</td>\n",
       "    </tr>\n",
       "    <tr>\n",
       "      <td>107</td>\n",
       "      <td>108</td>\n",
       "      <td>31898.10</td>\n",
       "      <td>1.63</td>\n",
       "      <td>14:13</td>\n",
       "      <td>19-09-17</td>\n",
       "    </tr>\n",
       "    <tr>\n",
       "      <td>108</td>\n",
       "      <td>109</td>\n",
       "      <td>31509.60</td>\n",
       "      <td>1.61</td>\n",
       "      <td>14:13</td>\n",
       "      <td>19-09-17</td>\n",
       "    </tr>\n",
       "    <tr>\n",
       "      <td>109</td>\n",
       "      <td>110</td>\n",
       "      <td>31742.00</td>\n",
       "      <td>1.63</td>\n",
       "      <td>14:13</td>\n",
       "      <td>19-09-17</td>\n",
       "    </tr>\n",
       "  </tbody>\n",
       "</table>\n",
       "<p>110 rows × 5 columns</p>\n",
       "</div>"
      ],
      "text/plain": [
       "     s_no  volume_in_ltrs  distance   Time      Date\n",
       "0       1         7185.58      0.37  13:43  19-09-17\n",
       "1       2         7099.25      0.36  13:43  19-09-17\n",
       "2       3         7099.25      0.36  13:44  19-09-17\n",
       "3       4         7082.65      0.36  13:44  19-09-17\n",
       "4       5         7095.93      0.36  13:44  19-09-17\n",
       "..    ...             ...       ...    ...       ...\n",
       "105   106        31781.90      1.63  14:13  19-09-17\n",
       "106   107        31599.30      1.62  14:13  19-09-17\n",
       "107   108        31898.10      1.63  14:13  19-09-17\n",
       "108   109        31509.60      1.61  14:13  19-09-17\n",
       "109   110        31742.00      1.63  14:13  19-09-17\n",
       "\n",
       "[110 rows x 5 columns]"
      ]
     },
     "execution_count": 405,
     "metadata": {},
     "output_type": "execute_result"
    }
   ],
   "source": [
    "#date1 = pd.to_datetime('13-08-19').strftime('%y-%m-%d')\n",
    "df_date = df[df[\"Date\"]==date]\n",
    "df_date"
   ]
  },
  {
   "cell_type": "code",
   "execution_count": 408,
   "metadata": {},
   "outputs": [
    {
     "data": {
      "text/html": [
       "<div>\n",
       "<style scoped>\n",
       "    .dataframe tbody tr th:only-of-type {\n",
       "        vertical-align: middle;\n",
       "    }\n",
       "\n",
       "    .dataframe tbody tr th {\n",
       "        vertical-align: top;\n",
       "    }\n",
       "\n",
       "    .dataframe thead th {\n",
       "        text-align: right;\n",
       "    }\n",
       "</style>\n",
       "<table border=\"1\" class=\"dataframe\">\n",
       "  <thead>\n",
       "    <tr style=\"text-align: right;\">\n",
       "      <th></th>\n",
       "      <th>s_no</th>\n",
       "      <th>volume_in_ltrs</th>\n",
       "      <th>distance</th>\n",
       "      <th>Time</th>\n",
       "      <th>Date</th>\n",
       "    </tr>\n",
       "  </thead>\n",
       "  <tbody>\n",
       "    <tr>\n",
       "      <td>105</td>\n",
       "      <td>106</td>\n",
       "      <td>31781.9</td>\n",
       "      <td>1.63</td>\n",
       "      <td>14:13</td>\n",
       "      <td>19-09-17</td>\n",
       "    </tr>\n",
       "    <tr>\n",
       "      <td>106</td>\n",
       "      <td>107</td>\n",
       "      <td>31599.3</td>\n",
       "      <td>1.62</td>\n",
       "      <td>14:13</td>\n",
       "      <td>19-09-17</td>\n",
       "    </tr>\n",
       "    <tr>\n",
       "      <td>107</td>\n",
       "      <td>108</td>\n",
       "      <td>31898.1</td>\n",
       "      <td>1.63</td>\n",
       "      <td>14:13</td>\n",
       "      <td>19-09-17</td>\n",
       "    </tr>\n",
       "    <tr>\n",
       "      <td>108</td>\n",
       "      <td>109</td>\n",
       "      <td>31509.6</td>\n",
       "      <td>1.61</td>\n",
       "      <td>14:13</td>\n",
       "      <td>19-09-17</td>\n",
       "    </tr>\n",
       "    <tr>\n",
       "      <td>109</td>\n",
       "      <td>110</td>\n",
       "      <td>31742.0</td>\n",
       "      <td>1.63</td>\n",
       "      <td>14:13</td>\n",
       "      <td>19-09-17</td>\n",
       "    </tr>\n",
       "  </tbody>\n",
       "</table>\n",
       "</div>"
      ],
      "text/plain": [
       "     s_no  volume_in_ltrs  distance   Time      Date\n",
       "105   106         31781.9      1.63  14:13  19-09-17\n",
       "106   107         31599.3      1.62  14:13  19-09-17\n",
       "107   108         31898.1      1.63  14:13  19-09-17\n",
       "108   109         31509.6      1.61  14:13  19-09-17\n",
       "109   110         31742.0      1.63  14:13  19-09-17"
      ]
     },
     "execution_count": 408,
     "metadata": {},
     "output_type": "execute_result"
    }
   ],
   "source": [
    "#start_time = pd.to_datetime('18:18').strftime('%H:%M')\n",
    "#end_time = pd.to_datetime('18:19').strftime('%H:%M')\n",
    "df_time = df_date[df_date[\"Time\"]>=start_time]\n",
    "df_time = df_time[df_time[\"Time\"]<=end_time]\n",
    "df_time.tail()"
   ]
  },
  {
   "cell_type": "code",
   "execution_count": 421,
   "metadata": {},
   "outputs": [],
   "source": [
    "checking_time1 = pd.to_datetime('08:00').strftime('%H:%M')\n",
    "checking_time2 = pd.to_datetime('09:00').strftime('%H:%M')\n",
    "checking_time3 = pd.to_datetime('10:00').strftime('%H:%M')\n",
    "checking_time4 = pd.to_datetime('11:00').strftime('%H:%M')\n",
    "checking_time5 = pd.to_datetime('12:00').strftime('%H:%M')\n",
    "checking_time6 = pd.to_datetime('13:00').strftime('%H:%M')\n",
    "checking_time7 = pd.to_datetime('14:00').strftime('%H:%M')\n",
    "checking_time8 = pd.to_datetime('15:00').strftime('%H:%M')\n",
    "checking_time9 = pd.to_datetime('16:00').strftime('%H:%M')\n",
    "checking_time10 = pd.to_datetime('17:00').strftime('%H:%M')"
   ]
  },
  {
   "cell_type": "code",
   "execution_count": 422,
   "metadata": {},
   "outputs": [],
   "source": [
    "if start_time >= checking_time1 and end_time <= checking_time2:\n",
    "    df_time.to_csv('/home/mythienbabu/Downloads/TankData1.csv')"
   ]
  },
  {
   "cell_type": "code",
   "execution_count": 423,
   "metadata": {},
   "outputs": [],
   "source": [
    "if start_time >= checking_time2 and end_time <= checking_time3:\n",
    "    df_time.to_csv('/home/mythienbabu/Downloads/TankData2.csv')"
   ]
  },
  {
   "cell_type": "code",
   "execution_count": 424,
   "metadata": {},
   "outputs": [],
   "source": [
    "if start_time >= checking_time3 and end_time <= checking_time4:\n",
    "    df_time.to_csv('/home/mythienbabu/Downloads/TankData3.csv')"
   ]
  },
  {
   "cell_type": "code",
   "execution_count": 425,
   "metadata": {},
   "outputs": [],
   "source": [
    "if start_time >= checking_time4 and end_time <= checking_time5:\n",
    "    df_time.to_csv('/home/mythienbabu/Downloads/TankData4.csv')"
   ]
  },
  {
   "cell_type": "code",
   "execution_count": 426,
   "metadata": {},
   "outputs": [],
   "source": [
    "if start_time >= checking_time5 and end_time <= checking_time6:\n",
    "    df_time.to_csv('/home/mythienbabu/Downloads/TankData5.csv')"
   ]
  },
  {
   "cell_type": "code",
   "execution_count": 427,
   "metadata": {},
   "outputs": [],
   "source": [
    "if start_time >= checking_time6 and end_time <= checking_time7:\n",
    "    df_time.to_csv('/home/mythienbabu/Downloads/TankData6.csv')"
   ]
  },
  {
   "cell_type": "code",
   "execution_count": 428,
   "metadata": {},
   "outputs": [],
   "source": [
    "if start_time >= checking_time7 and end_time <= checking_time8:\n",
    "    df_time.to_csv('/home/mythienbabu/Downloads/TankData7.csv')"
   ]
  },
  {
   "cell_type": "code",
   "execution_count": 429,
   "metadata": {},
   "outputs": [],
   "source": [
    "if start_time >= checking_time8 and end_time <= checking_time9:\n",
    "    df_time.to_csv('/home/mythienbabu/Downloads/TankData8.csv')"
   ]
  },
  {
   "cell_type": "code",
   "execution_count": 430,
   "metadata": {},
   "outputs": [],
   "source": [
    "if start_time >= checking_time9 and end_time <= checking_time10:\n",
    "    df_time.to_csv('/home/mythienbabu/Downloads/TankData9.csv')"
   ]
  },
  {
   "cell_type": "code",
   "execution_count": null,
   "metadata": {},
   "outputs": [],
   "source": [
    "if start_time == checking_time1:\n",
    "    dirt = r'C:\\Users\\mythi\\Downloads\\WaterTank Data'\n",
    "    for files in os.listdir(dirt):\n",
    "        os.remove(dirt+'/'+files)\n",
    "                           \n",
    "wt.main()"
   ]
  }
 ],
 "metadata": {
  "kernelspec": {
   "display_name": "Python 3",
   "language": "python",
   "name": "python3"
  },
  "language_info": {
   "codemirror_mode": {
    "name": "ipython",
    "version": 3
   },
   "file_extension": ".py",
   "mimetype": "text/x-python",
   "name": "python",
   "nbconvert_exporter": "python",
   "pygments_lexer": "ipython3",
   "version": "3.6.8"
  },
  "pycharm": {
   "stem_cell": {
    "cell_type": "raw",
    "source": [],
    "metadata": {
     "collapsed": false
    }
   }
  }
 },
 "nbformat": 4,
 "nbformat_minor": 2
}